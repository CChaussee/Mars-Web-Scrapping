{
 "cells": [
  {
   "cell_type": "code",
   "execution_count": 1,
   "id": "casual-honor",
   "metadata": {},
   "outputs": [],
   "source": [
    "from bs4 import BeautifulSoup as bs\n",
    "from splinter import Browser\n",
    "import os\n",
    "import pandas as pd\n",
    "from webdriver_manager.chrome import ChromeDriverManager\n",
    "import time"
   ]
  },
  {
   "cell_type": "code",
   "execution_count": 2,
   "id": "worth-latter",
   "metadata": {},
   "outputs": [
    {
     "name": "stderr",
     "output_type": "stream",
     "text": [
      "[WDM] - ====== WebDriver manager ======\n",
      "[WDM] - Current google-chrome version is 89.0.4389\n",
      "[WDM] - Get LATEST driver version for 89.0.4389\n"
     ]
    },
    {
     "name": "stdout",
     "output_type": "stream",
     "text": [
      "\n",
      "\n"
     ]
    },
    {
     "name": "stderr",
     "output_type": "stream",
     "text": [
      "[WDM] - Driver [C:\\Users\\cfcha\\.wdm\\drivers\\chromedriver\\win32\\89.0.4389.23\\chromedriver.exe] found in cache\n"
     ]
    }
   ],
   "source": [
    "executable_path = {'executable_path': ChromeDriverManager().install()}\n",
    "browser = Browser('chrome', **executable_path, headless=False)"
   ]
  },
  {
   "cell_type": "code",
   "execution_count": 3,
   "id": "clear-franklin",
   "metadata": {},
   "outputs": [],
   "source": [
    "url = 'https://mars.nasa.gov/news/'\n",
    "\n",
    "browser.visit(url)"
   ]
  },
  {
   "cell_type": "code",
   "execution_count": 4,
   "id": "native-analyst",
   "metadata": {},
   "outputs": [],
   "source": [
    "html = browser.html\n",
    "soup = bs(html, \"html.parser\")"
   ]
  },
  {
   "cell_type": "code",
   "execution_count": 5,
   "id": "minus-israeli",
   "metadata": {},
   "outputs": [
    {
     "name": "stdout",
     "output_type": "stream",
     "text": [
      "Mars Now\n",
      "The new science results indicate that a large quantity of the Red Planet’s water is trapped in its crust rather than having escaped into space.\n"
     ]
    }
   ],
   "source": [
    "#news_title = \"NASA's Persever.....\" find a way to get beautifulsoup to print this\n",
    "news_title = soup.find(\"div\", class_=\"content_title\").text\n",
    "print(news_title)\n",
    "news_para = soup.find(\"div\", class_= \"article_teaser_body\").text\n",
    "print(news_para)\n",
    "#I thought the title would be Working with Navajo but I was wrong"
   ]
  },
  {
   "cell_type": "code",
   "execution_count": 6,
   "id": "congressional-release",
   "metadata": {},
   "outputs": [],
   "source": [
    "#Space Images"
   ]
  },
  {
   "cell_type": "code",
   "execution_count": 7,
   "id": "terminal-lesson",
   "metadata": {},
   "outputs": [],
   "source": [
    "image_url = \"https://data-class-jpl-space.s3.amazonaws.com/JPL_Space/index.html\"\n",
    "browser.visit(image_url)"
   ]
  },
  {
   "cell_type": "code",
   "execution_count": 8,
   "id": "entertaining-glasgow",
   "metadata": {},
   "outputs": [],
   "source": [
    "#not sure how to use splinter for this but hovering over the image link in inspector mode gave me the link\n",
    "featured_image_url = 'https://data-class-jpl-space.s3.amazonaws.com/JPL_Space/image/featured/mars2.jpg'"
   ]
  },
  {
   "cell_type": "code",
   "execution_count": 9,
   "id": "relative-belfast",
   "metadata": {},
   "outputs": [],
   "source": [
    "#Mars Facts"
   ]
  },
  {
   "cell_type": "code",
   "execution_count": 17,
   "id": "closing-eight",
   "metadata": {},
   "outputs": [
    {
     "ename": "TypeError",
     "evalue": "'method' object is not subscriptable",
     "output_type": "error",
     "traceback": [
      "\u001b[1;31m---------------------------------------------------------------------------\u001b[0m",
      "\u001b[1;31mTypeError\u001b[0m                                 Traceback (most recent call last)",
      "\u001b[1;32m<ipython-input-17-0421dbf2243d>\u001b[0m in \u001b[0;36m<module>\u001b[1;34m()\u001b[0m\n\u001b[0;32m      7\u001b[0m \u001b[0mmars_table\u001b[0m \u001b[1;33m=\u001b[0m \u001b[0mmars_facts\u001b[0m\u001b[1;33m[\u001b[0m\u001b[1;36m0\u001b[0m\u001b[1;33m]\u001b[0m\u001b[1;33m\u001b[0m\u001b[1;33m\u001b[0m\u001b[0m\n\u001b[0;32m      8\u001b[0m \u001b[0mmars_table\u001b[0m\u001b[1;33m.\u001b[0m\u001b[0mcolumns\u001b[0m \u001b[1;33m=\u001b[0m \u001b[1;33m[\u001b[0m\u001b[1;34m\"Information\"\u001b[0m\u001b[1;33m,\u001b[0m \u001b[1;34m\"Values\"\u001b[0m\u001b[1;33m]\u001b[0m\u001b[1;33m\u001b[0m\u001b[1;33m\u001b[0m\u001b[0m\n\u001b[1;32m----> 9\u001b[1;33m \u001b[0mmars_table\u001b[0m\u001b[1;33m.\u001b[0m\u001b[0mset_index\u001b[0m\u001b[1;33m[\u001b[0m\u001b[1;34m\"Information\"\u001b[0m\u001b[1;33m]\u001b[0m\u001b[1;33m\u001b[0m\u001b[1;33m\u001b[0m\u001b[0m\n\u001b[0m\u001b[0;32m     10\u001b[0m \u001b[1;31m#mars_table = mars_facts.to_html(), didnt work\u001b[0m\u001b[1;33m\u001b[0m\u001b[1;33m\u001b[0m\u001b[1;33m\u001b[0m\u001b[0m\n",
      "\u001b[1;31mTypeError\u001b[0m: 'method' object is not subscriptable"
     ]
    }
   ],
   "source": [
    "facts_url = 'https://space-facts.com/mars/'\n",
    "#thank you Google on how to read html in pandas\n",
    "mars_facts = pd.read_html(facts_url)\n",
    "#indexing to see if that helps\n",
    "mars_facts[0]\n",
    "#it helps to do variables in the correct order\n",
    "mars_table = mars_facts[0]\n",
    "mars_table.columns = [\"Information\", \"Values\"]\n",
    "mars_table.set_index[\"Information\"]\n",
    "#mars_table = mars_facts.to_html(), didnt work"
   ]
  },
  {
   "cell_type": "code",
   "execution_count": null,
   "id": "signal-three",
   "metadata": {},
   "outputs": [],
   "source": [
    "#Mars Hemispheres"
   ]
  },
  {
   "cell_type": "code",
   "execution_count": null,
   "id": "pointed-canberra",
   "metadata": {},
   "outputs": [],
   "source": [
    "hemi_url = 'https://astrogeology.usgs.gov/search/results?q=hemisphere+enhanced&k1=target&v1=Mars'\n",
    "browser.visit(hemi_url)\n",
    "hemisphere_images_urls = []"
   ]
  },
  {
   "cell_type": "code",
   "execution_count": 14,
   "id": "unauthorized-closer",
   "metadata": {},
   "outputs": [],
   "source": [
    "#Cerbus Hemishpere\n",
    "#Schiaparelli Hemishpere\n",
    "#Syrtis Major Hemishpere\n",
    "#Valles Marineris Hemisphere"
   ]
  },
  {
   "cell_type": "code",
   "execution_count": null,
   "id": "industrial-miami",
   "metadata": {},
   "outputs": [],
   "source": []
  }
 ],
 "metadata": {
  "kernelspec": {
   "display_name": "Python 3",
   "language": "python",
   "name": "python3"
  },
  "language_info": {
   "codemirror_mode": {
    "name": "ipython",
    "version": 3
   },
   "file_extension": ".py",
   "mimetype": "text/x-python",
   "name": "python",
   "nbconvert_exporter": "python",
   "pygments_lexer": "ipython3",
   "version": "3.6.10"
  }
 },
 "nbformat": 4,
 "nbformat_minor": 5
}
